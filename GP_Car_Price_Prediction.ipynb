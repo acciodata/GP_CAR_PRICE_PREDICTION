{
 "cells": [
  {
   "cell_type": "markdown",
   "metadata": {},
   "source": [
    "GUIDED PROJECT FROM DATAQUEST Part of the course Machine Learning Fundamentals\n",
    "\n",
    "Last updated: April 7, 2018"
   ]
  },
  {
   "cell_type": "code",
   "execution_count": 1,
   "metadata": {},
   "outputs": [
    {
     "data": {
      "text/html": [
       "<div>\n",
       "<style>\n",
       "    .dataframe thead tr:only-child th {\n",
       "        text-align: right;\n",
       "    }\n",
       "\n",
       "    .dataframe thead th {\n",
       "        text-align: left;\n",
       "    }\n",
       "\n",
       "    .dataframe tbody tr th {\n",
       "        vertical-align: top;\n",
       "    }\n",
       "</style>\n",
       "<table border=\"1\" class=\"dataframe\">\n",
       "  <thead>\n",
       "    <tr style=\"text-align: right;\">\n",
       "      <th></th>\n",
       "      <th>symbolizing</th>\n",
       "      <th>normalized_losses</th>\n",
       "      <th>make</th>\n",
       "      <th>fuel_type</th>\n",
       "      <th>aspiration</th>\n",
       "      <th>num_doors</th>\n",
       "      <th>body_style</th>\n",
       "      <th>drive_wheels</th>\n",
       "      <th>engine_location</th>\n",
       "      <th>wheel_base</th>\n",
       "      <th>...</th>\n",
       "      <th>engine_size</th>\n",
       "      <th>fuel_system</th>\n",
       "      <th>bore</th>\n",
       "      <th>stroke</th>\n",
       "      <th>compression_ratio</th>\n",
       "      <th>horsepower</th>\n",
       "      <th>peak_rpm</th>\n",
       "      <th>city_mpg</th>\n",
       "      <th>highway_mpg</th>\n",
       "      <th>price</th>\n",
       "    </tr>\n",
       "  </thead>\n",
       "  <tbody>\n",
       "    <tr>\n",
       "      <th>0</th>\n",
       "      <td>3</td>\n",
       "      <td>?</td>\n",
       "      <td>alfa-romero</td>\n",
       "      <td>gas</td>\n",
       "      <td>std</td>\n",
       "      <td>two</td>\n",
       "      <td>convertible</td>\n",
       "      <td>rwd</td>\n",
       "      <td>front</td>\n",
       "      <td>88.6</td>\n",
       "      <td>...</td>\n",
       "      <td>130</td>\n",
       "      <td>mpfi</td>\n",
       "      <td>3.47</td>\n",
       "      <td>2.68</td>\n",
       "      <td>9.0</td>\n",
       "      <td>111</td>\n",
       "      <td>5000</td>\n",
       "      <td>21</td>\n",
       "      <td>27</td>\n",
       "      <td>13495</td>\n",
       "    </tr>\n",
       "    <tr>\n",
       "      <th>1</th>\n",
       "      <td>3</td>\n",
       "      <td>?</td>\n",
       "      <td>alfa-romero</td>\n",
       "      <td>gas</td>\n",
       "      <td>std</td>\n",
       "      <td>two</td>\n",
       "      <td>convertible</td>\n",
       "      <td>rwd</td>\n",
       "      <td>front</td>\n",
       "      <td>88.6</td>\n",
       "      <td>...</td>\n",
       "      <td>130</td>\n",
       "      <td>mpfi</td>\n",
       "      <td>3.47</td>\n",
       "      <td>2.68</td>\n",
       "      <td>9.0</td>\n",
       "      <td>111</td>\n",
       "      <td>5000</td>\n",
       "      <td>21</td>\n",
       "      <td>27</td>\n",
       "      <td>16500</td>\n",
       "    </tr>\n",
       "    <tr>\n",
       "      <th>2</th>\n",
       "      <td>1</td>\n",
       "      <td>?</td>\n",
       "      <td>alfa-romero</td>\n",
       "      <td>gas</td>\n",
       "      <td>std</td>\n",
       "      <td>two</td>\n",
       "      <td>hatchback</td>\n",
       "      <td>rwd</td>\n",
       "      <td>front</td>\n",
       "      <td>94.5</td>\n",
       "      <td>...</td>\n",
       "      <td>152</td>\n",
       "      <td>mpfi</td>\n",
       "      <td>2.68</td>\n",
       "      <td>3.47</td>\n",
       "      <td>9.0</td>\n",
       "      <td>154</td>\n",
       "      <td>5000</td>\n",
       "      <td>19</td>\n",
       "      <td>26</td>\n",
       "      <td>16500</td>\n",
       "    </tr>\n",
       "    <tr>\n",
       "      <th>3</th>\n",
       "      <td>2</td>\n",
       "      <td>164</td>\n",
       "      <td>audi</td>\n",
       "      <td>gas</td>\n",
       "      <td>std</td>\n",
       "      <td>four</td>\n",
       "      <td>sedan</td>\n",
       "      <td>fwd</td>\n",
       "      <td>front</td>\n",
       "      <td>99.8</td>\n",
       "      <td>...</td>\n",
       "      <td>109</td>\n",
       "      <td>mpfi</td>\n",
       "      <td>3.19</td>\n",
       "      <td>3.40</td>\n",
       "      <td>10.0</td>\n",
       "      <td>102</td>\n",
       "      <td>5500</td>\n",
       "      <td>24</td>\n",
       "      <td>30</td>\n",
       "      <td>13950</td>\n",
       "    </tr>\n",
       "    <tr>\n",
       "      <th>4</th>\n",
       "      <td>2</td>\n",
       "      <td>164</td>\n",
       "      <td>audi</td>\n",
       "      <td>gas</td>\n",
       "      <td>std</td>\n",
       "      <td>four</td>\n",
       "      <td>sedan</td>\n",
       "      <td>4wd</td>\n",
       "      <td>front</td>\n",
       "      <td>99.4</td>\n",
       "      <td>...</td>\n",
       "      <td>136</td>\n",
       "      <td>mpfi</td>\n",
       "      <td>3.19</td>\n",
       "      <td>3.40</td>\n",
       "      <td>8.0</td>\n",
       "      <td>115</td>\n",
       "      <td>5500</td>\n",
       "      <td>18</td>\n",
       "      <td>22</td>\n",
       "      <td>17450</td>\n",
       "    </tr>\n",
       "  </tbody>\n",
       "</table>\n",
       "<p>5 rows × 26 columns</p>\n",
       "</div>"
      ],
      "text/plain": [
       "   symbolizing normalized_losses         make fuel_type aspiration num_doors  \\\n",
       "0            3                 ?  alfa-romero       gas        std       two   \n",
       "1            3                 ?  alfa-romero       gas        std       two   \n",
       "2            1                 ?  alfa-romero       gas        std       two   \n",
       "3            2               164         audi       gas        std      four   \n",
       "4            2               164         audi       gas        std      four   \n",
       "\n",
       "    body_style drive_wheels engine_location  wheel_base  ...    engine_size  \\\n",
       "0  convertible          rwd           front        88.6  ...            130   \n",
       "1  convertible          rwd           front        88.6  ...            130   \n",
       "2    hatchback          rwd           front        94.5  ...            152   \n",
       "3        sedan          fwd           front        99.8  ...            109   \n",
       "4        sedan          4wd           front        99.4  ...            136   \n",
       "\n",
       "   fuel_system  bore  stroke compression_ratio horsepower  peak_rpm city_mpg  \\\n",
       "0         mpfi  3.47    2.68               9.0        111      5000       21   \n",
       "1         mpfi  3.47    2.68               9.0        111      5000       21   \n",
       "2         mpfi  2.68    3.47               9.0        154      5000       19   \n",
       "3         mpfi  3.19    3.40              10.0        102      5500       24   \n",
       "4         mpfi  3.19    3.40               8.0        115      5500       18   \n",
       "\n",
       "  highway_mpg  price  \n",
       "0          27  13495  \n",
       "1          27  16500  \n",
       "2          26  16500  \n",
       "3          30  13950  \n",
       "4          22  17450  \n",
       "\n",
       "[5 rows x 26 columns]"
      ]
     },
     "execution_count": 1,
     "metadata": {},
     "output_type": "execute_result"
    }
   ],
   "source": [
    "# Loading the Data\n",
    "\n",
    "import pandas as pd\n",
    "import numpy as np\n",
    "import math\n",
    "\n",
    "# Loading the data set\n",
    "cars = pd.read_csv(\"imports-85.data\", header = None)\n",
    "cars.columns = [\"symbolizing\", \"normalized_losses\", \"make\", \"fuel_type\", \"aspiration\", \"num_doors\", \"body_style\", \"drive_wheels\", \"engine_location\", \"wheel_base\", \"length\", \"width\", \"height\", \"curb_weight\", \"engine_type\", \"num_cylinders\", \"engine_size\", \"fuel_system\", \"bore\", \"stroke\", \"compression_ratio\", \"horsepower\", \"peak_rpm\", \"city_mpg\", \"highway_mpg\", \"price\"]\n",
    "\n",
    "cars.head()"
   ]
  },
  {
   "cell_type": "code",
   "execution_count": 2,
   "metadata": {},
   "outputs": [],
   "source": [
    "# Data Cleaning Part 1\n",
    "\n",
    "# Cleaning - replacing ? with NaN\n",
    "cars.replace(to_replace = \"?\", value = np.nan, inplace = True)\n",
    "\n",
    "# Cleaning - converting to numeric values\n",
    "\n",
    "# Creating the column list for conversion\n",
    "column_list = [\"normalized_losses\", \"num_doors\", \"curb_weight\", \"engine_size\", \"bore\", \"stroke\", \"horsepower\", \"peak_rpm\", \"city_mpg\", \"highway_mpg\", \"price\"]\n",
    "\n",
    "\n",
    "# Replacing text values with numerical values in the column num_doors\n",
    "cars[\"num_doors\"].replace(to_replace = \"two\", value = 2, inplace = True)\n",
    "cars[\"num_doors\"].replace(to_replace = \"four\", value = 4, inplace = True)\n",
    "\n",
    "temp = cars[\"num_doors\"].iloc[27]\n",
    "\n",
    "cars[\"num_doors\"].replace(to_replace = temp, value = np.nan, inplace = True)\n",
    "\n",
    "# Replacing text values with numerical values in the column num_cylinder\n",
    "num_cylinder_dictionary = {\"four\": 4.0, \"six\": 6.0, \"five\": 5.0, \"three\": 3.0, \"twelve\": 12.0, \"two\": 2.0, \"eight\": 8.0}\n",
    "\n",
    "for text, number in num_cylinder_dictionary.items():\n",
    "    cars[\"num_cylinders\"].replace(to_replace = text, value = number, inplace = True)\n",
    "\n",
    "# Converting selected columns to float\n",
    "for title in column_list:\n",
    "    cars[title] = cars[title].astype(float)"
   ]
  },
  {
   "cell_type": "code",
   "execution_count": 3,
   "metadata": {},
   "outputs": [
    {
     "data": {
      "text/html": [
       "<div>\n",
       "<style>\n",
       "    .dataframe thead tr:only-child th {\n",
       "        text-align: right;\n",
       "    }\n",
       "\n",
       "    .dataframe thead th {\n",
       "        text-align: left;\n",
       "    }\n",
       "\n",
       "    .dataframe tbody tr th {\n",
       "        vertical-align: top;\n",
       "    }\n",
       "</style>\n",
       "<table border=\"1\" class=\"dataframe\">\n",
       "  <thead>\n",
       "    <tr style=\"text-align: right;\">\n",
       "      <th></th>\n",
       "      <th>symbolizing</th>\n",
       "      <th>normalized_losses</th>\n",
       "      <th>make</th>\n",
       "      <th>fuel_type</th>\n",
       "      <th>aspiration</th>\n",
       "      <th>num_doors</th>\n",
       "      <th>body_style</th>\n",
       "      <th>drive_wheels</th>\n",
       "      <th>engine_location</th>\n",
       "      <th>wheel_base</th>\n",
       "      <th>...</th>\n",
       "      <th>engine_size</th>\n",
       "      <th>fuel_system</th>\n",
       "      <th>bore</th>\n",
       "      <th>stroke</th>\n",
       "      <th>compression_ratio</th>\n",
       "      <th>horsepower</th>\n",
       "      <th>peak_rpm</th>\n",
       "      <th>city_mpg</th>\n",
       "      <th>highway_mpg</th>\n",
       "      <th>price</th>\n",
       "    </tr>\n",
       "  </thead>\n",
       "  <tbody>\n",
       "    <tr>\n",
       "      <th>0</th>\n",
       "      <td>3</td>\n",
       "      <td>122.0</td>\n",
       "      <td>alfa-romero</td>\n",
       "      <td>gas</td>\n",
       "      <td>std</td>\n",
       "      <td>2.0</td>\n",
       "      <td>convertible</td>\n",
       "      <td>rwd</td>\n",
       "      <td>front</td>\n",
       "      <td>88.6</td>\n",
       "      <td>...</td>\n",
       "      <td>130.0</td>\n",
       "      <td>mpfi</td>\n",
       "      <td>3.47</td>\n",
       "      <td>2.68</td>\n",
       "      <td>9.0</td>\n",
       "      <td>111.0</td>\n",
       "      <td>5000.0</td>\n",
       "      <td>21.0</td>\n",
       "      <td>27.0</td>\n",
       "      <td>13495.0</td>\n",
       "    </tr>\n",
       "    <tr>\n",
       "      <th>1</th>\n",
       "      <td>3</td>\n",
       "      <td>122.0</td>\n",
       "      <td>alfa-romero</td>\n",
       "      <td>gas</td>\n",
       "      <td>std</td>\n",
       "      <td>2.0</td>\n",
       "      <td>convertible</td>\n",
       "      <td>rwd</td>\n",
       "      <td>front</td>\n",
       "      <td>88.6</td>\n",
       "      <td>...</td>\n",
       "      <td>130.0</td>\n",
       "      <td>mpfi</td>\n",
       "      <td>3.47</td>\n",
       "      <td>2.68</td>\n",
       "      <td>9.0</td>\n",
       "      <td>111.0</td>\n",
       "      <td>5000.0</td>\n",
       "      <td>21.0</td>\n",
       "      <td>27.0</td>\n",
       "      <td>16500.0</td>\n",
       "    </tr>\n",
       "    <tr>\n",
       "      <th>2</th>\n",
       "      <td>1</td>\n",
       "      <td>122.0</td>\n",
       "      <td>alfa-romero</td>\n",
       "      <td>gas</td>\n",
       "      <td>std</td>\n",
       "      <td>2.0</td>\n",
       "      <td>hatchback</td>\n",
       "      <td>rwd</td>\n",
       "      <td>front</td>\n",
       "      <td>94.5</td>\n",
       "      <td>...</td>\n",
       "      <td>152.0</td>\n",
       "      <td>mpfi</td>\n",
       "      <td>2.68</td>\n",
       "      <td>3.47</td>\n",
       "      <td>9.0</td>\n",
       "      <td>154.0</td>\n",
       "      <td>5000.0</td>\n",
       "      <td>19.0</td>\n",
       "      <td>26.0</td>\n",
       "      <td>16500.0</td>\n",
       "    </tr>\n",
       "    <tr>\n",
       "      <th>3</th>\n",
       "      <td>2</td>\n",
       "      <td>164.0</td>\n",
       "      <td>audi</td>\n",
       "      <td>gas</td>\n",
       "      <td>std</td>\n",
       "      <td>4.0</td>\n",
       "      <td>sedan</td>\n",
       "      <td>fwd</td>\n",
       "      <td>front</td>\n",
       "      <td>99.8</td>\n",
       "      <td>...</td>\n",
       "      <td>109.0</td>\n",
       "      <td>mpfi</td>\n",
       "      <td>3.19</td>\n",
       "      <td>3.40</td>\n",
       "      <td>10.0</td>\n",
       "      <td>102.0</td>\n",
       "      <td>5500.0</td>\n",
       "      <td>24.0</td>\n",
       "      <td>30.0</td>\n",
       "      <td>13950.0</td>\n",
       "    </tr>\n",
       "    <tr>\n",
       "      <th>4</th>\n",
       "      <td>2</td>\n",
       "      <td>164.0</td>\n",
       "      <td>audi</td>\n",
       "      <td>gas</td>\n",
       "      <td>std</td>\n",
       "      <td>4.0</td>\n",
       "      <td>sedan</td>\n",
       "      <td>4wd</td>\n",
       "      <td>front</td>\n",
       "      <td>99.4</td>\n",
       "      <td>...</td>\n",
       "      <td>136.0</td>\n",
       "      <td>mpfi</td>\n",
       "      <td>3.19</td>\n",
       "      <td>3.40</td>\n",
       "      <td>8.0</td>\n",
       "      <td>115.0</td>\n",
       "      <td>5500.0</td>\n",
       "      <td>18.0</td>\n",
       "      <td>22.0</td>\n",
       "      <td>17450.0</td>\n",
       "    </tr>\n",
       "  </tbody>\n",
       "</table>\n",
       "<p>5 rows × 26 columns</p>\n",
       "</div>"
      ],
      "text/plain": [
       "   symbolizing  normalized_losses         make fuel_type aspiration  \\\n",
       "0            3              122.0  alfa-romero       gas        std   \n",
       "1            3              122.0  alfa-romero       gas        std   \n",
       "2            1              122.0  alfa-romero       gas        std   \n",
       "3            2              164.0         audi       gas        std   \n",
       "4            2              164.0         audi       gas        std   \n",
       "\n",
       "   num_doors   body_style drive_wheels engine_location  wheel_base   ...     \\\n",
       "0        2.0  convertible          rwd           front        88.6   ...      \n",
       "1        2.0  convertible          rwd           front        88.6   ...      \n",
       "2        2.0    hatchback          rwd           front        94.5   ...      \n",
       "3        4.0        sedan          fwd           front        99.8   ...      \n",
       "4        4.0        sedan          4wd           front        99.4   ...      \n",
       "\n",
       "   engine_size  fuel_system  bore  stroke compression_ratio  horsepower  \\\n",
       "0        130.0         mpfi  3.47    2.68               9.0       111.0   \n",
       "1        130.0         mpfi  3.47    2.68               9.0       111.0   \n",
       "2        152.0         mpfi  2.68    3.47               9.0       154.0   \n",
       "3        109.0         mpfi  3.19    3.40              10.0       102.0   \n",
       "4        136.0         mpfi  3.19    3.40               8.0       115.0   \n",
       "\n",
       "   peak_rpm city_mpg  highway_mpg    price  \n",
       "0    5000.0     21.0         27.0  13495.0  \n",
       "1    5000.0     21.0         27.0  16500.0  \n",
       "2    5000.0     19.0         26.0  16500.0  \n",
       "3    5500.0     24.0         30.0  13950.0  \n",
       "4    5500.0     18.0         22.0  17450.0  \n",
       "\n",
       "[5 rows x 26 columns]"
      ]
     },
     "execution_count": 3,
     "metadata": {},
     "output_type": "execute_result"
    }
   ],
   "source": [
    "# Data Cleaning Part 2\n",
    "\n",
    "# Cleaning - Eliminating null values for column normalized_losses, bore, stroke, and price\n",
    "\n",
    "columns_for_mean = [\"normalized_losses\", \"bore\", \"stroke\", \"price\"]\n",
    "averages = []\n",
    "\n",
    "for title in columns_for_mean:\n",
    "    temp = cars[title].mean()\n",
    "    averages.append(temp)\n",
    "    \n",
    "for i, title in enumerate(columns_for_mean):\n",
    "    cars[title] = cars[title].fillna(averages[i])\n",
    "\n",
    "# Cleaning - Eliminating rows where num_doors, horsepower and peak_rpm are null\n",
    "cars = cars.dropna(subset = [[\"num_doors\", \"peak_rpm\", \"horsepower\"]])\n",
    "\n",
    "cars.head()"
   ]
  },
  {
   "cell_type": "code",
   "execution_count": 4,
   "metadata": {},
   "outputs": [
    {
     "data": {
      "text/html": [
       "<div>\n",
       "<style>\n",
       "    .dataframe thead tr:only-child th {\n",
       "        text-align: right;\n",
       "    }\n",
       "\n",
       "    .dataframe thead th {\n",
       "        text-align: left;\n",
       "    }\n",
       "\n",
       "    .dataframe tbody tr th {\n",
       "        vertical-align: top;\n",
       "    }\n",
       "</style>\n",
       "<table border=\"1\" class=\"dataframe\">\n",
       "  <thead>\n",
       "    <tr style=\"text-align: right;\">\n",
       "      <th></th>\n",
       "      <th>normalized_losses</th>\n",
       "      <th>num_doors</th>\n",
       "      <th>curb_weight</th>\n",
       "      <th>num_cylinders</th>\n",
       "      <th>engine_size</th>\n",
       "      <th>bore</th>\n",
       "      <th>stroke</th>\n",
       "      <th>horsepower</th>\n",
       "      <th>peak_rpm</th>\n",
       "      <th>city_mpg</th>\n",
       "      <th>highway_mpg</th>\n",
       "      <th>price</th>\n",
       "    </tr>\n",
       "  </thead>\n",
       "  <tbody>\n",
       "    <tr>\n",
       "      <th>0</th>\n",
       "      <td>0.298429</td>\n",
       "      <td>0.0</td>\n",
       "      <td>0.411171</td>\n",
       "      <td>0.2</td>\n",
       "      <td>0.260377</td>\n",
       "      <td>0.664286</td>\n",
       "      <td>0.290476</td>\n",
       "      <td>0.262500</td>\n",
       "      <td>0.346939</td>\n",
       "      <td>0.222222</td>\n",
       "      <td>0.289474</td>\n",
       "      <td>0.207959</td>\n",
       "    </tr>\n",
       "    <tr>\n",
       "      <th>1</th>\n",
       "      <td>0.298429</td>\n",
       "      <td>0.0</td>\n",
       "      <td>0.411171</td>\n",
       "      <td>0.2</td>\n",
       "      <td>0.260377</td>\n",
       "      <td>0.664286</td>\n",
       "      <td>0.290476</td>\n",
       "      <td>0.262500</td>\n",
       "      <td>0.346939</td>\n",
       "      <td>0.222222</td>\n",
       "      <td>0.289474</td>\n",
       "      <td>0.282558</td>\n",
       "    </tr>\n",
       "    <tr>\n",
       "      <th>2</th>\n",
       "      <td>0.298429</td>\n",
       "      <td>0.0</td>\n",
       "      <td>0.517843</td>\n",
       "      <td>0.4</td>\n",
       "      <td>0.343396</td>\n",
       "      <td>0.100000</td>\n",
       "      <td>0.666667</td>\n",
       "      <td>0.441667</td>\n",
       "      <td>0.346939</td>\n",
       "      <td>0.166667</td>\n",
       "      <td>0.263158</td>\n",
       "      <td>0.282558</td>\n",
       "    </tr>\n",
       "    <tr>\n",
       "      <th>3</th>\n",
       "      <td>0.518325</td>\n",
       "      <td>1.0</td>\n",
       "      <td>0.329325</td>\n",
       "      <td>0.2</td>\n",
       "      <td>0.181132</td>\n",
       "      <td>0.464286</td>\n",
       "      <td>0.633333</td>\n",
       "      <td>0.225000</td>\n",
       "      <td>0.551020</td>\n",
       "      <td>0.305556</td>\n",
       "      <td>0.368421</td>\n",
       "      <td>0.219254</td>\n",
       "    </tr>\n",
       "    <tr>\n",
       "      <th>4</th>\n",
       "      <td>0.518325</td>\n",
       "      <td>1.0</td>\n",
       "      <td>0.518231</td>\n",
       "      <td>0.3</td>\n",
       "      <td>0.283019</td>\n",
       "      <td>0.464286</td>\n",
       "      <td>0.633333</td>\n",
       "      <td>0.279167</td>\n",
       "      <td>0.551020</td>\n",
       "      <td>0.138889</td>\n",
       "      <td>0.157895</td>\n",
       "      <td>0.306142</td>\n",
       "    </tr>\n",
       "  </tbody>\n",
       "</table>\n",
       "</div>"
      ],
      "text/plain": [
       "   normalized_losses  num_doors  curb_weight  num_cylinders  engine_size  \\\n",
       "0           0.298429        0.0     0.411171            0.2     0.260377   \n",
       "1           0.298429        0.0     0.411171            0.2     0.260377   \n",
       "2           0.298429        0.0     0.517843            0.4     0.343396   \n",
       "3           0.518325        1.0     0.329325            0.2     0.181132   \n",
       "4           0.518325        1.0     0.518231            0.3     0.283019   \n",
       "\n",
       "       bore    stroke  horsepower  peak_rpm  city_mpg  highway_mpg     price  \n",
       "0  0.664286  0.290476    0.262500  0.346939  0.222222     0.289474  0.207959  \n",
       "1  0.664286  0.290476    0.262500  0.346939  0.222222     0.289474  0.282558  \n",
       "2  0.100000  0.666667    0.441667  0.346939  0.166667     0.263158  0.282558  \n",
       "3  0.464286  0.633333    0.225000  0.551020  0.305556     0.368421  0.219254  \n",
       "4  0.464286  0.633333    0.279167  0.551020  0.138889     0.157895  0.306142  "
      ]
     },
     "execution_count": 4,
     "metadata": {},
     "output_type": "execute_result"
    }
   ],
   "source": [
    "# Normalizing the Data Set\n",
    "\n",
    "from sklearn.preprocessing import MinMaxScaler\n",
    "\n",
    "# Normalizing Using MinMaxScaler\n",
    "\n",
    "numerical_columns = [\"normalized_losses\", \"num_doors\", \"curb_weight\", \"num_cylinders\", \"engine_size\", \"bore\", \"stroke\", \"horsepower\", \"peak_rpm\", \"city_mpg\", \"highway_mpg\", \"price\"]\n",
    "new_cars = cars[numerical_columns].copy()\n",
    "\n",
    "scaler = MinMaxScaler()\n",
    "scaler = scaler.fit(new_cars)\n",
    "\n",
    "temp = scaler.transform(new_cars)\n",
    "\n",
    "normalized_cars = pd.DataFrame(temp)\n",
    "normalized_cars.columns = numerical_columns\n",
    "\n",
    "normalized_cars.head()"
   ]
  },
  {
   "cell_type": "code",
   "execution_count": 5,
   "metadata": {},
   "outputs": [
    {
     "name": "stdout",
     "output_type": "stream",
     "text": [
      "{'normalized_losses': 0.20195872037574736, 'num_doors': 0.12280170223540916, 'curb_weight': 0.06311430906124822, 'num_cylinders': 0.11356732845379242, 'engine_size': 0.0897243614501898, 'bore': 0.20951519608245814, 'stroke': 0.19062981637807194, 'horsepower': 0.09684813297824986, 'peak_rpm': 0.15980979688078267, 'city_mpg': 0.08524808000911323, 'highway_mpg': 0.06635978420132564}\n"
     ]
    }
   ],
   "source": [
    "# Machine Learning Model: Various Univariate Models Using Numerical Features of the Data Set\n",
    "# Number of Neighbors equal to the Default Value of KNeighborsRegressor\n",
    "\n",
    "from sklearn.neighbors import KNeighborsRegressor\n",
    "from sklearn.metrics import mean_squared_error\n",
    "from sklearn.model_selection import cross_val_score, KFold\n",
    "import math\n",
    "\n",
    "def knn_train_test(train_column, k, fold = 1, test_column = \"price\", df = normalized_cars):\n",
    "    if fold == 1:\n",
    "        train_df = df.iloc[0:150]\n",
    "        test_df = df.iloc[150:]\n",
    "    \n",
    "        knn = KNeighborsRegressor(n_neighbors = k)\n",
    "    \n",
    "        train_features = train_df[train_column]\n",
    "        train_target = train_df[test_column]\n",
    "        knn.fit(train_features, train_target)\n",
    "    \n",
    "        predictions = knn.predict(test_df[train_column])\n",
    "    \n",
    "        mse = mean_squared_error(test_df[test_column], predictions)\n",
    "        rmse = math.sqrt(mse)\n",
    "    \n",
    "        return(rmse)\n",
    "    else:\n",
    "        kf = KFold(fold, shuffle = True, random_state = 1)\n",
    "        model = KNeighborsRegressor(n_neighbors = k)\n",
    "        mses = cross_val_score(model, df[train_column], df[test_column], scoring = \"neg_mean_squared_error\", cv = kf)\n",
    "        rmses = np.sqrt(np.abs(mses))\n",
    "        avg_rmse = np.std(rmses)\n",
    "        return(avg_rmse)\n",
    "\n",
    "# Single Fold Univariate Models for the default value of k\n",
    "univariate_columns = numerical_columns[0:11]  \n",
    "univariate_rmse = {}\n",
    "\n",
    "for title in univariate_columns:\n",
    "    temp = knn_train_test([title], 5)\n",
    "    univariate_rmse[title] = temp\n",
    "\n",
    "print(univariate_rmse)"
   ]
  },
  {
   "cell_type": "markdown",
   "metadata": {},
   "source": [
    "Based on the results of the various univariate models using the numerical columns, the smallest rmse value was obtained for the model using curb_weight as the training column - rmse value equal to 0.06311."
   ]
  },
  {
   "cell_type": "code",
   "execution_count": 6,
   "metadata": {},
   "outputs": [
    {
     "data": {
      "text/html": [
       "<div>\n",
       "<style>\n",
       "    .dataframe thead tr:only-child th {\n",
       "        text-align: right;\n",
       "    }\n",
       "\n",
       "    .dataframe thead th {\n",
       "        text-align: left;\n",
       "    }\n",
       "\n",
       "    .dataframe tbody tr th {\n",
       "        vertical-align: top;\n",
       "    }\n",
       "</style>\n",
       "<table border=\"1\" class=\"dataframe\">\n",
       "  <thead>\n",
       "    <tr style=\"text-align: right;\">\n",
       "      <th></th>\n",
       "      <th>bore</th>\n",
       "      <th>city_mpg</th>\n",
       "      <th>curb_weight</th>\n",
       "      <th>engine_size</th>\n",
       "      <th>highway_mpg</th>\n",
       "      <th>horsepower</th>\n",
       "      <th>normalized_losses</th>\n",
       "      <th>num_cylinders</th>\n",
       "      <th>num_doors</th>\n",
       "      <th>peak_rpm</th>\n",
       "      <th>stroke</th>\n",
       "      <th>k_values</th>\n",
       "    </tr>\n",
       "  </thead>\n",
       "  <tbody>\n",
       "    <tr>\n",
       "      <th>0</th>\n",
       "      <td>0.155581</td>\n",
       "      <td>0.122084</td>\n",
       "      <td>0.086523</td>\n",
       "      <td>0.122380</td>\n",
       "      <td>0.107183</td>\n",
       "      <td>0.121226</td>\n",
       "      <td>0.206242</td>\n",
       "      <td>0.228875</td>\n",
       "      <td>0.172478</td>\n",
       "      <td>0.307286</td>\n",
       "      <td>0.345790</td>\n",
       "      <td>1</td>\n",
       "    </tr>\n",
       "    <tr>\n",
       "      <th>1</th>\n",
       "      <td>0.252440</td>\n",
       "      <td>0.089325</td>\n",
       "      <td>0.062737</td>\n",
       "      <td>0.112983</td>\n",
       "      <td>0.072220</td>\n",
       "      <td>0.103544</td>\n",
       "      <td>0.213752</td>\n",
       "      <td>0.170990</td>\n",
       "      <td>0.115401</td>\n",
       "      <td>0.236864</td>\n",
       "      <td>0.242614</td>\n",
       "      <td>3</td>\n",
       "    </tr>\n",
       "    <tr>\n",
       "      <th>2</th>\n",
       "      <td>0.209515</td>\n",
       "      <td>0.085248</td>\n",
       "      <td>0.063114</td>\n",
       "      <td>0.089724</td>\n",
       "      <td>0.066360</td>\n",
       "      <td>0.096848</td>\n",
       "      <td>0.201959</td>\n",
       "      <td>0.113567</td>\n",
       "      <td>0.122802</td>\n",
       "      <td>0.159810</td>\n",
       "      <td>0.190630</td>\n",
       "      <td>5</td>\n",
       "    </tr>\n",
       "    <tr>\n",
       "      <th>3</th>\n",
       "      <td>0.195062</td>\n",
       "      <td>0.081158</td>\n",
       "      <td>0.067511</td>\n",
       "      <td>0.083302</td>\n",
       "      <td>0.059283</td>\n",
       "      <td>0.101646</td>\n",
       "      <td>0.207012</td>\n",
       "      <td>0.105839</td>\n",
       "      <td>0.117565</td>\n",
       "      <td>0.163697</td>\n",
       "      <td>0.153514</td>\n",
       "      <td>7</td>\n",
       "    </tr>\n",
       "    <tr>\n",
       "      <th>4</th>\n",
       "      <td>0.159341</td>\n",
       "      <td>0.079904</td>\n",
       "      <td>0.066303</td>\n",
       "      <td>0.079958</td>\n",
       "      <td>0.064935</td>\n",
       "      <td>0.096001</td>\n",
       "      <td>0.193173</td>\n",
       "      <td>0.111379</td>\n",
       "      <td>0.144963</td>\n",
       "      <td>0.163882</td>\n",
       "      <td>0.131032</td>\n",
       "      <td>9</td>\n",
       "    </tr>\n",
       "  </tbody>\n",
       "</table>\n",
       "</div>"
      ],
      "text/plain": [
       "       bore  city_mpg  curb_weight  engine_size  highway_mpg  horsepower  \\\n",
       "0  0.155581  0.122084     0.086523     0.122380     0.107183    0.121226   \n",
       "1  0.252440  0.089325     0.062737     0.112983     0.072220    0.103544   \n",
       "2  0.209515  0.085248     0.063114     0.089724     0.066360    0.096848   \n",
       "3  0.195062  0.081158     0.067511     0.083302     0.059283    0.101646   \n",
       "4  0.159341  0.079904     0.066303     0.079958     0.064935    0.096001   \n",
       "\n",
       "   normalized_losses  num_cylinders  num_doors  peak_rpm    stroke  k_values  \n",
       "0           0.206242       0.228875   0.172478  0.307286  0.345790         1  \n",
       "1           0.213752       0.170990   0.115401  0.236864  0.242614         3  \n",
       "2           0.201959       0.113567   0.122802  0.159810  0.190630         5  \n",
       "3           0.207012       0.105839   0.117565  0.163697  0.153514         7  \n",
       "4           0.193173       0.111379   0.144963  0.163882  0.131032         9  "
      ]
     },
     "execution_count": 6,
     "metadata": {},
     "output_type": "execute_result"
    }
   ],
   "source": [
    "# Machine Learning Model: Various Univariate Models Using Numerical Features of the Data Set\n",
    "# Number of Neighbors Varied Accordingly\n",
    "\n",
    "# Single Fold Univariate models for various values of k\n",
    "\n",
    "k = [1, 3, 5, 7, 9]\n",
    "rmse_dictionary = {}\n",
    "\n",
    "for title in univariate_columns:\n",
    "    rmse_temp = []\n",
    "    \n",
    "    for i in k:\n",
    "        temp = knn_train_test([title], i)\n",
    "        rmse_temp.append(temp)\n",
    "    \n",
    "    rmse_dictionary[title] = rmse_temp\n",
    "\n",
    "rmse_df = pd.DataFrame(rmse_dictionary)\n",
    "rmse_df = rmse_df\n",
    "\n",
    "k_series = pd.Series(k) \n",
    "\n",
    "rmse_df[\"k_values\"] = k_series\n",
    "\n",
    "rmse_df.head()"
   ]
  },
  {
   "cell_type": "code",
   "execution_count": 7,
   "metadata": {},
   "outputs": [
    {
     "data": {
      "image/png": "[encoded data removed]",
      "text/plain": [
       "<matplotlib.figure.Figure at 0x2a2e866b588>"
      ]
     },
     "metadata": {},
     "output_type": "display_data"
    },
    {
     "data": {
      "image/png": "[encoded data removed]",
      "text/plain": [
       "<matplotlib.figure.Figure at 0x2a2ea4759b0>"
      ]
     },
     "metadata": {},
     "output_type": "display_data"
    },
    {
     "data": {
      "image/png": "[encoded data removed]",
      "text/plain": [
       "<matplotlib.figure.Figure at 0x2a2ea4ecba8>"
      ]
     },
     "metadata": {},
     "output_type": "display_data"
    },
    {
     "data": {
      "image/png": "[encoded data removed]",
      "text/plain": [
       "<matplotlib.figure.Figure at 0x2a2ea4d1748>"
      ]
     },
     "metadata": {},
     "output_type": "display_data"
    },
    {
     "data": {
      "image/png": "[encoded data removed]",
      "text/plain": [
       "<matplotlib.figure.Figure at 0x2a2ea5abb70>"
      ]
     },
     "metadata": {},
     "output_type": "display_data"
    },
    {
     "data": {
      "image/png": "[encoded data removed]",
      "text/plain": [
       "<matplotlib.figure.Figure at 0x2a2ea5fcc50>"
      ]
     },
     "metadata": {},
     "output_type": "display_data"
    },
    {
     "data": {
      "image/png": "[encoded data removed]",
      "text/plain": [
       "<matplotlib.figure.Figure at 0x2a2ea603b00>"
      ]
     },
     "metadata": {},
     "output_type": "display_data"
    },
    {
     "data": {
      "image/png": "[encoded data removed]",
      "text/plain": [
       "<matplotlib.figure.Figure at 0x2a2ea6abd68>"
      ]
     },
     "metadata": {},
     "output_type": "display_data"
    },
    {
     "data": {
      "image/png": "[encoded data removed]",
      "text/plain": [
       "<matplotlib.figure.Figure at 0x2a2ea6337b8>"
      ]
     },
     "metadata": {},
     "output_type": "display_data"
    },
    {
     "data": {
      "image/png": "[encoded data removed]",
      "text/plain": [
       "<matplotlib.figure.Figure at 0x2a2ea769ef0>"
      ]
     },
     "metadata": {},
     "output_type": "display_data"
    },
    {
     "data": {
      "image/png": "[encoded data removed]",
      "text/plain": [
       "<matplotlib.figure.Figure at 0x2a2ea769c50>"
      ]
     },
     "metadata": {},
     "output_type": "display_data"
    }
   ],
   "source": [
    "# Plotting the rmse values against the number of neighbors for the single fold univariate models of the previous cell\n",
    "\n",
    "%matplotlib inline\n",
    "\n",
    "for title in univariate_columns:\n",
    "    rmse_df.plot(x = \"k_values\", y = title, kind = \"line\")"
   ]
  },
  {
   "cell_type": "markdown",
   "metadata": {},
   "source": [
    "Feature: bore, Optimal k value = 1\n",
    "\n",
    "Feature: normalized_losses, Optimal k value = 9\n",
    "\n",
    "Feature: num_doors, Optimal k value = 3\n",
    "\n",
    "Feature: curb_weight, Optimal k value = 3\n",
    "\n",
    "Feature: num_cylinders, Optimal k value = 7\n",
    "\n",
    "Feature: engine_size, Optimal k value = 9\n",
    "\n",
    "Feature: stroke, Optimal k value = 9\n",
    "\n",
    "Feature: horsepower, Optimal k value = 9\n",
    "\n",
    "Feature: peak_rpm, Optimal k value = 5\n",
    "\n",
    "Feature: city_mpg, Optimal k value = 9\n",
    "\n",
    "Feature: highway_mpg, Optimal k value = 7"
   ]
  },
  {
   "cell_type": "code",
   "execution_count": 8,
   "metadata": {},
   "outputs": [
    {
     "name": "stdout",
     "output_type": "stream",
     "text": [
      "0.06447472162168758\n"
     ]
    }
   ],
   "source": [
    "# Single Fold Machine Learning Model Using All Feature Columns\n",
    "rmse_all = knn_train_test(univariate_columns,5)\n",
    "\n",
    "print(rmse_all)"
   ]
  },
  {
   "cell_type": "code",
   "execution_count": 9,
   "metadata": {},
   "outputs": [
    {
     "name": "stdout",
     "output_type": "stream",
     "text": [
      "0.07954878138950915\n"
     ]
    }
   ],
   "source": [
    "# Single Fold Machine Learning Model Using the Best 2 Features\n",
    "# Features: curb_weight & highway_mpg\n",
    "\n",
    "best_two = [\"curb_weight\", \"highway_mpg\"]\n",
    "rmse_best_two = knn_train_test(best_two, 5)\n",
    "\n",
    "print(rmse_best_two)"
   ]
  },
  {
   "cell_type": "code",
   "execution_count": 10,
   "metadata": {},
   "outputs": [
    {
     "name": "stdout",
     "output_type": "stream",
     "text": [
      "0.05537401881445683\n"
     ]
    }
   ],
   "source": [
    "# Single Fold Machine Learning Model Using the Best 3 Features\n",
    "# Features: curb_weight, highway_mpg & city_mpg\n",
    "\n",
    "best_three = best_two + [\"city_mpg\"]\n",
    "rmse_best_three = knn_train_test(best_three, 5)\n",
    "\n",
    "print(rmse_best_three)"
   ]
  },
  {
   "cell_type": "code",
   "execution_count": 11,
   "metadata": {},
   "outputs": [
    {
     "name": "stdout",
     "output_type": "stream",
     "text": [
      "0.05965530852626958\n"
     ]
    }
   ],
   "source": [
    "# Single Fold Machine Learning Model Using the Best 4 Features\n",
    "# Features: curb_weight, highway_mgp, city_mpg & engine_size\n",
    "\n",
    "best_four = best_three + [\"engine_size\"]\n",
    "rmse_best_four = knn_train_test(best_four, 5)\n",
    "\n",
    "print(rmse_best_four)"
   ]
  },
  {
   "cell_type": "code",
   "execution_count": 12,
   "metadata": {},
   "outputs": [
    {
     "name": "stdout",
     "output_type": "stream",
     "text": [
      "0.0713773623709086\n"
     ]
    }
   ],
   "source": [
    "# Single Fold Machine Learning Model Using the Best 5 Features\n",
    "# Features: curb_weight, highway_mgp, city_mpg, engine_size & horsepower\n",
    "\n",
    "best_five = best_four + [\"horsepower\"]\n",
    "rmse_best_five = knn_train_test(best_five, 5)\n",
    "\n",
    "print(rmse_best_five)"
   ]
  },
  {
   "cell_type": "markdown",
   "metadata": {},
   "source": [
    "Best Model: Best three features"
   ]
  },
  {
   "cell_type": "code",
   "execution_count": 13,
   "metadata": {},
   "outputs": [
    {
     "data": {
      "text/plain": [
       "<matplotlib.axes._subplots.AxesSubplot at 0x2a2ea8f4588>"
      ]
     },
     "execution_count": 13,
     "metadata": {},
     "output_type": "execute_result"
    },
    {
     "data": {
      "image/png": "[encoded data removed]",
      "text/plain": [
       "<matplotlib.figure.Figure at 0x2a2ea8f4320>"
      ]
     },
     "metadata": {},
     "output_type": "display_data"
    }
   ],
   "source": [
    "# Single Fold Machine Learning Model Optimization\n",
    "# Best Three Features Model\n",
    "# Features: curb_weight, highway_mpg, city_mpg\n",
    "\n",
    "k_values = list(range(1, 26))\n",
    "rmse_per_k = []\n",
    "\n",
    "for i in k_values:\n",
    "    temp = knn_train_test(best_three, i)\n",
    "    rmse_per_k.append(temp)\n",
    "\n",
    "rmse_dictionary = {\"k_values\": k_values, \"rmse_per_k\": rmse_per_k}\n",
    "rmse_best_three_df = pd.DataFrame(rmse_dictionary)\n",
    "\n",
    "rmse_best_three_df.plot(x = \"k_values\", y = \"rmse_per_k\", kind = \"line\")"
   ]
  },
  {
   "cell_type": "code",
   "execution_count": 14,
   "metadata": {},
   "outputs": [
    {
     "data": {
      "text/plain": [
       "<matplotlib.axes._subplots.AxesSubplot at 0x2a2ea7e9710>"
      ]
     },
     "execution_count": 14,
     "metadata": {},
     "output_type": "execute_result"
    },
    {
     "data": {
      "image/png": "[encoded data removed]",
      "text/plain": [
       "<matplotlib.figure.Figure at 0x2a2e866b6a0>"
      ]
     },
     "metadata": {},
     "output_type": "display_data"
    }
   ],
   "source": [
    "# Single Fold Machine Learning Model Optimization\n",
    "# Best Four Features Model\n",
    "# Features: curb_weight, highway_mpg, city_mpg, engine_size\n",
    "\n",
    "rmse_per_k = []\n",
    "\n",
    "for i in k_values:\n",
    "    temp = knn_train_test(best_four, i)\n",
    "    rmse_per_k.append(temp)\n",
    "\n",
    "rmse_dictionary = {\"k_values\": k_values, \"rmse_per_k\": rmse_per_k}\n",
    "rmse_best_four_df = pd.DataFrame(rmse_dictionary)\n",
    "\n",
    "rmse_best_four_df.plot(x = \"k_values\", y = \"rmse_per_k\", kind = \"line\")"
   ]
  },
  {
   "cell_type": "code",
   "execution_count": 15,
   "metadata": {},
   "outputs": [
    {
     "data": {
      "text/plain": [
       "<matplotlib.axes._subplots.AxesSubplot at 0x2a2ea973400>"
      ]
     },
     "execution_count": 15,
     "metadata": {},
     "output_type": "execute_result"
    },
    {
     "data": {
      "image/png": "[encoded data removed]",
      "text/plain": [
       "<matplotlib.figure.Figure at 0x2a2ea9a94a8>"
      ]
     },
     "metadata": {},
     "output_type": "display_data"
    }
   ],
   "source": [
    "# Single Fold Machine Learning Optimization Model\n",
    "# All Features Model\n",
    "\n",
    "rmse_per_k = []\n",
    "\n",
    "for i in k_values:\n",
    "    temp = knn_train_test(univariate_columns, i)\n",
    "    rmse_per_k.append(temp)\n",
    "    \n",
    "rmse_dictionary = {\"k_values\": k_values, \"rmse_per_k\": rmse_per_k}\n",
    "rmse_all_df = pd.DataFrame(rmse_dictionary)\n",
    "\n",
    "rmse_all_df.plot(x = \"k_values\", y = \"rmse_per_k\", kind = \"line\")\n"
   ]
  },
  {
   "cell_type": "code",
   "execution_count": 16,
   "metadata": {},
   "outputs": [
    {
     "name": "stdout",
     "output_type": "stream",
     "text": [
      "{'normalized_losses': 0.018563181714376431, 'num_doors': 0.011004322288166644, 'curb_weight': 0.013866182360797015, 'num_cylinders': 0.023989747364374984, 'engine_size': 0.014064337105665939, 'bore': 0.022561214464791774, 'stroke': 0.008313006256975267, 'horsepower': 0.023000544192878263, 'peak_rpm': 0.026960117074608811, 'city_mpg': 0.024330859346919646, 'highway_mpg': 0.014142530177510512}\n"
     ]
    }
   ],
   "source": [
    "# Testing the Multiple Fold Code on a Set of\n",
    "# 3-Fold Univariate Models for the default value of k\n",
    "\n",
    "three_fold_univariate_rmse = {}\n",
    "\n",
    "for title in univariate_columns:\n",
    "    temp = knn_train_test([title], 5, fold = 3)\n",
    "    three_fold_univariate_rmse[title] = temp\n",
    "\n",
    "print(three_fold_univariate_rmse)\n"
   ]
  }
 ],
 "metadata": {
  "kernelspec": {
   "display_name": "Python 3",
   "language": "python",
   "name": "python3"
  },
  "language_info": {
   "codemirror_mode": {
    "name": "ipython",
    "version": 3
   },
   "file_extension": ".py",
   "mimetype": "text/x-python",
   "name": "python",
   "nbconvert_exporter": "python",
   "pygments_lexer": "ipython3",
   "version": "3.6.3"
  }
 },
 "nbformat": 4,
 "nbformat_minor": 2
}
